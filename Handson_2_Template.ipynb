{
 "cells": [
  {
   "cell_type": "markdown",
   "metadata": {},
   "source": [
    "# Selections and Loops"
   ]
  },
  {
   "cell_type": "markdown",
   "metadata": {},
   "source": [
    "## 3.1 Letter Grade Converter\n",
    "Create a program that converts number grades to letter grades.\n",
    "\n",
    "### Console:\n",
    "```powershell\n",
    "Letter Grade Converter\n",
    "\n",
    "Enter numerical grade: 90 \n",
    "Letter grade: A\n",
    "\n",
    "Continue? (y/n): y\n",
    "\n",
    "Enter numerical grade: 88 \n",
    "Letter grade: A\n",
    "\n",
    "Continue? (y/n): y\n",
    "\n",
    "Enter numerical grade: 80 \n",
    "Letter grade: B\n",
    "\n",
    "Continue? (y/n): y\n",
    "\n",
    "Enter numerical grade: 67 \n",
    "Letter grade: C\n",
    "\n",
    "Continue? (y/n): y\n",
    "\n",
    "Enter numerical grade: 59 \n",
    "Letter grade: F\n",
    "\n",
    "Continue? (y/n): n\n",
    "\n",
    "Bye!\n",
    "```\n",
    "\n",
    "### Specifications:\n",
    "- Assume that the user will enter valid integers for the grades.\n",
    "- The program should continue only if the user enters “y” or “Y” to continue.\n",
    "- The grading criteria is as follows:\n",
    "\n",
    "| Letter |\tRange |\n",
    "|---|-------|\n",
    "| A |\t88-100 |\n",
    "| B |\t80-87 |\n",
    "| C |\t67-79 |\n",
    "| D |\t60-66 |\n",
    "| F |\t<60 |"
   ]
  },
  {
   "cell_type": "code",
   "execution_count": 20,
   "metadata": {},
   "outputs": [
    {
     "name": "stdout",
     "output_type": "stream",
     "text": [
      "Letter Grade Converter\n",
      "\n"
     ]
    },
    {
     "name": "stdout",
     "output_type": "stream",
     "text": [
      "Enter numerical grade:  90\n"
     ]
    },
    {
     "name": "stdout",
     "output_type": "stream",
     "text": [
      "Letter grade: A\n",
      "\n"
     ]
    },
    {
     "name": "stdout",
     "output_type": "stream",
     "text": [
      "Continue? (y/n): y\n"
     ]
    },
    {
     "name": "stdout",
     "output_type": "stream",
     "text": [
      "\n"
     ]
    },
    {
     "name": "stdout",
     "output_type": "stream",
     "text": [
      "Enter numerical grade:  88\n"
     ]
    },
    {
     "name": "stdout",
     "output_type": "stream",
     "text": [
      "Letter grade: A\n",
      "\n"
     ]
    },
    {
     "name": "stdout",
     "output_type": "stream",
     "text": [
      "Continue? (y/n): y\n"
     ]
    },
    {
     "name": "stdout",
     "output_type": "stream",
     "text": [
      "\n"
     ]
    },
    {
     "name": "stdout",
     "output_type": "stream",
     "text": [
      "Enter numerical grade:  80\n"
     ]
    },
    {
     "name": "stdout",
     "output_type": "stream",
     "text": [
      "Letter grade: B\n",
      "\n"
     ]
    },
    {
     "name": "stdout",
     "output_type": "stream",
     "text": [
      "Continue? (y/n): y\n"
     ]
    },
    {
     "name": "stdout",
     "output_type": "stream",
     "text": [
      "\n"
     ]
    },
    {
     "name": "stdout",
     "output_type": "stream",
     "text": [
      "Enter numerical grade:  67\n"
     ]
    },
    {
     "name": "stdout",
     "output_type": "stream",
     "text": [
      "Letter grade: C\n",
      "\n"
     ]
    },
    {
     "name": "stdout",
     "output_type": "stream",
     "text": [
      "Continue? (y/n): y\n"
     ]
    },
    {
     "name": "stdout",
     "output_type": "stream",
     "text": [
      "\n"
     ]
    },
    {
     "name": "stdout",
     "output_type": "stream",
     "text": [
      "Enter numerical grade:  59\n"
     ]
    },
    {
     "name": "stdout",
     "output_type": "stream",
     "text": [
      "Letter grade: F\n",
      "\n"
     ]
    },
    {
     "name": "stdout",
     "output_type": "stream",
     "text": [
      "Continue? (y/n): n\n"
     ]
    },
    {
     "name": "stdout",
     "output_type": "stream",
     "text": [
      "\n",
      "Bye!\n"
     ]
    }
   ],
   "source": [
    "### CODE HERE ###\n",
    "print(\"Letter Grade Converter\")\n",
    "print()\n",
    "\n",
    "while(True):\n",
    "    inp_num = int(input(\"Enter numerical grade: \"))\n",
    "    if (inp_num >= 88): print(\"Letter grade: A\")\n",
    "    elif (inp_num >= 80): print(\"Letter grade: B\")\n",
    "    elif (inp_num >= 67): print(\"Letter grade: C\")\n",
    "    elif (inp_num >= 60): print(\"Letter grade: D\")\n",
    "    else: print(\"Letter grade: F\")\n",
    "\n",
    "    print()\n",
    "    inp_cont = str(input(\"Continue? (y/n):\"))\n",
    "    print()\n",
    "    if (inp_cont.lower() == 'y'): pass\n",
    "    else: break\n",
    "\n",
    "print(\"Bye!\")\n",
    "    \n",
    "\n"
   ]
  },
  {
   "cell_type": "markdown",
   "metadata": {},
   "source": [
    "## 3.2 - Tip Calculator\n",
    "Create a program that calculates three options for an appropriate tip to leave after a meal at a restaurant.\n",
    "\n",
    "### Console\n",
    "```powershell\n",
    "Tip Calculator\n",
    "\n",
    "Cost of meal: 52.31 \n",
    "\n",
    "15%\n",
    "Tip amount:\t7.85\n",
    "Total amount: 60.16\n",
    "\n",
    "20%\n",
    "Tip amount:\t10.46\n",
    "Total amount: 62.77\n",
    "\n",
    "25%\n",
    "Tip amount:\t13.08\n",
    "Total amount: 65.39\n",
    "```\n",
    "\n",
    "### Specifications:\n",
    "- The program should calculate and display the cost of tipping at 15%, 20%, or 25%.\n",
    "- Assume the user will enter valid data.\n",
    "- The program should round results to a maximum of two decimal places.\n",
    "\n"
   ]
  },
  {
   "cell_type": "code",
   "execution_count": 13,
   "metadata": {},
   "outputs": [
    {
     "name": "stdout",
     "output_type": "stream",
     "text": [
      "Tip Calculator\n",
      "\n"
     ]
    },
    {
     "name": "stdout",
     "output_type": "stream",
     "text": [
      "Cost of meal:  52.31\n"
     ]
    },
    {
     "name": "stdout",
     "output_type": "stream",
     "text": [
      "\n",
      "15%\n",
      "Tip amount:\t7.85\n",
      "Total amount: 60.16\n",
      "\n",
      "20%\n",
      "Tip amount:\t10.46\n",
      "Total amount: 62.77\n",
      "\n",
      "25%\n",
      "Tip amount:\t13.08\n",
      "Total amount: 65.39\n",
      "\n"
     ]
    }
   ],
   "source": [
    "### CODE HERE ###\n",
    "print(\"Tip Calculator\")\n",
    "print()\n",
    "\n",
    "inp = float(input(\"Cost of meal: \"))\n",
    "print()\n",
    "\n",
    "tax15 = round(inp*0.15,2)\n",
    "tax20 = round(inp*0.20,2)\n",
    "tax25 = round(inp*0.25,2)\n",
    "\n",
    "print(\"15%\")\n",
    "print(\"Tip amount:\t%.2f\"%tax15)\n",
    "print(\"Total amount: %.2f\"%(inp+tax15))\n",
    "print()\n",
    "\n",
    "print(\"20%\")\n",
    "print(\"Tip amount:\t%.2f\"%tax20)\n",
    "print(\"Total amount: %.2f\"%(inp+tax20))\n",
    "print()\n",
    "\n",
    "print(\"25%\")\n",
    "print(\"Tip amount:\t%.2f\"%tax25)\n",
    "print(\"Total amount: %.2f\"%(inp+tax25))\n",
    "print()"
   ]
  },
  {
   "cell_type": "markdown",
   "metadata": {},
   "source": [
    "## 3.3 - Change Calculator\n",
    "Create a program that calculates the coins needed to make change for the specified number of cents.\n",
    "\n",
    "### Console\n",
    "```powershell\n",
    "Change Calculator\n",
    "\n",
    "Enter number of cents (0-99): 99\n",
    "\n",
    "Quarters: 3\n",
    "Dimes:\t2\n",
    "Nickels: 0\n",
    "Pennies: 4\n",
    "\n",
    "Continue? (y/n): y\n",
    "\n",
    "Enter number of cents (0-99): 55\n",
    "\n",
    "Quarters: 2\n",
    "Dimes:\t0\n",
    "Nickels: 1\n",
    "Pennies: 0\n",
    "\n",
    "Continue? (y/n): n \n",
    "\n",
    "Bye!\n",
    "```\n",
    "\n",
    "### Specifications\n",
    "- The program should display the minimum number of quarters, dimes, nickels, and pennies that one needs to make up the specified number of cents.\n",
    "- Assume that the user will enter a valid integer for the number of cents.\n",
    "- The program should continue only if the user enters “y” or “Y” to continue.\n"
   ]
  },
  {
   "cell_type": "code",
   "execution_count": 25,
   "metadata": {},
   "outputs": [
    {
     "name": "stdout",
     "output_type": "stream",
     "text": [
      "Change Calculator\n",
      "\n"
     ]
    },
    {
     "name": "stdout",
     "output_type": "stream",
     "text": [
      "Enter number of cents (0-99):  99\n"
     ]
    },
    {
     "name": "stdout",
     "output_type": "stream",
     "text": [
      "\n",
      "Quarters: 3\n",
      "Dimes:\t2\n",
      "Nickels: 0\n",
      "Pennies: 4\n",
      "\n"
     ]
    },
    {
     "name": "stdout",
     "output_type": "stream",
     "text": [
      "Continue? (y/n): y\n"
     ]
    },
    {
     "name": "stdout",
     "output_type": "stream",
     "text": [
      "\n"
     ]
    },
    {
     "name": "stdout",
     "output_type": "stream",
     "text": [
      "Enter number of cents (0-99):  55\n"
     ]
    },
    {
     "name": "stdout",
     "output_type": "stream",
     "text": [
      "\n",
      "Quarters: 2\n",
      "Dimes:\t0\n",
      "Nickels: 1\n",
      "Pennies: 0\n",
      "\n"
     ]
    },
    {
     "name": "stdout",
     "output_type": "stream",
     "text": [
      "Continue? (y/n): n\n"
     ]
    },
    {
     "name": "stdout",
     "output_type": "stream",
     "text": [
      "\n",
      "Bye!\n"
     ]
    }
   ],
   "source": [
    "### CODE HERE ###\n",
    "print(\"Change Calculator\")\n",
    "print()\n",
    "\n",
    "while (True):\n",
    "    money = int(input(\"Enter number of cents (0-99): \"))\n",
    "    print()\n",
    "    \n",
    "    quarters = money / 25\n",
    "    money = money % 25\n",
    "    \n",
    "    dimes = money / 10\n",
    "    money = money % 10\n",
    "    \n",
    "    nickels = money / 5\n",
    "    money = money % 5\n",
    "    \n",
    "    pennies = money / 1\n",
    "    \n",
    "    print(\"\"\"Quarters: %d\n",
    "Dimes:\t%d\n",
    "Nickels: %d\n",
    "Pennies: %d\"\"\"%(quarters, dimes, nickels, pennies))\n",
    "\n",
    "    print()\n",
    "    inp_cont = str(input(\"Continue? (y/n):\"))\n",
    "    print()\n",
    "    if (inp_cont.lower() == 'y'): pass\n",
    "    else: break\n",
    "    \n",
    "print(\"Bye!\")"
   ]
  },
  {
   "cell_type": "markdown",
   "metadata": {},
   "source": [
    "## 3.4 - Table of Powers\n",
    "Create a program that displays a table of squares and cubes for the specified range of numbers.\n",
    "\n",
    "### Console\n",
    "```powershell\n",
    "Table of Powers\n",
    "\n",
    "Start number: 90\n",
    "Stop number: 100\n",
    "\n",
    "Number\tSquared\tCubed\n",
    "======\t=======\t=====\n",
    "90      8100\t729000\n",
    "91      8281\t753571\n",
    "92      8464\t778688\n",
    "93      8649\t804357\n",
    "94      8836\t830584\n",
    "95      9025\t857375\n",
    "96      9216\t884736\n",
    "97      9409\t912673\n",
    "98      9604\t941192\n",
    "99      9801\t970299\n",
    "100     10000\t1000000\n",
    "```\n",
    "\n",
    "### Specifications\n",
    "- The formulas for calculating squares and cubes are:\n",
    "\n",
    "    `square = x ** 2`\n",
    "    \n",
    "    `cube = x ** 3`\n",
    "\n",
    "- Use tabs to align the columns.\n",
    "- Assume that the user will enter valid integers.\n",
    "- Make sure the user enters a start integer that’s less than the stop integer. If the user enters a start integer that’s greater than the stop integer, display an error message and give the user a chance to enter the integers again.\n"
   ]
  },
  {
   "cell_type": "code",
   "execution_count": 1,
   "metadata": {},
   "outputs": [
    {
     "name": "stdout",
     "output_type": "stream",
     "text": [
      "Table of Powers\n",
      "\n",
      "\n",
      "Number\tSquared\tCubed\n",
      "======\t======= =====\n",
      "90\t8100\t729000\n",
      "91\t8281\t753571\n",
      "92\t8464\t778688\n",
      "93\t8649\t804357\n",
      "94\t8836\t830584\n",
      "95\t9025\t857375\n",
      "96\t9216\t884736\n",
      "97\t9409\t912673\n",
      "98\t9604\t941192\n",
      "99\t9801\t970299\n",
      "100\t10000\t1000000\n"
     ]
    }
   ],
   "source": [
    "### CODE HERE ###\n",
    "print(\"Table of Powers\")\n",
    "print()\n",
    "\n",
    "start_num = 1\n",
    "stop_num = 0\n",
    "\n",
    "while (start_num >= stop_num):\n",
    "    start_num = int(input(\"Start number: \"))\n",
    "    stop_num = int(input(\"Stop number: \"))\n",
    "    if (start_num >= stop_num): print(\"Error\")\n",
    "    print()\n",
    "\n",
    "\n",
    "print(\"Number\\tSquared\\tCubed\")\n",
    "print(\"======\t======= =====\")\n",
    "\n",
    "tmp = start_num\n",
    "while (True):\n",
    "    print(\"%d\\t%d\\t%d\"%(tmp,tmp**2,tmp**3))\n",
    "    tmp+=1\n",
    "    if (tmp==stop_num+1): break"
   ]
  }
 ],
 "metadata": {
  "kernelspec": {
   "display_name": "Python 3 (ipykernel)",
   "language": "python",
   "name": "python3"
  },
  "language_info": {
   "codemirror_mode": {
    "name": "ipython",
    "version": 3
   },
   "file_extension": ".py",
   "mimetype": "text/x-python",
   "name": "python",
   "nbconvert_exporter": "python",
   "pygments_lexer": "ipython3",
   "version": "3.8.2"
  }
 },
 "nbformat": 4,
 "nbformat_minor": 4
}
