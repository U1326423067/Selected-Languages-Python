{
 "cells": [
  {
   "cell_type": "markdown",
   "metadata": {},
   "source": [
    "# File Input\n",
    "\n",
    "To submit this assignment in D2l, post the link to your notebook file on your GitHub account."
   ]
  },
  {
   "cell_type": "markdown",
   "metadata": {},
   "source": [
    "## 7.1 Pig Dice Rules\n",
    "Create a program that reads a list of rules from a file and displays them.\n",
    "\n",
    "### Console:\n",
    "```powershell\n",
    "Pig Dice Rules:\n",
    "*\tSee how many turns it takes you to get to 20.\n",
    "*\tTurn ends when player rolls a 1 or chooses to hold.\n",
    "*\tIf you roll a 1, you lose all points earned during the turn.\n",
    "*\tIf you hold, you save all points earned during the turn.\n",
    "```\n",
    "\n",
    "### Specifications:\n",
    "- Use the attached text file named `pig_dice_rules.txt` in the corresponding Directory.\n",
    "- Your program should read the text file and display it on the console.\n"
   ]
  },
  {
   "cell_type": "code",
   "execution_count": 4,
   "metadata": {},
   "outputs": [
    {
     "name": "stdout",
     "output_type": "stream",
     "text": [
      "Pig Dice Rules:\n",
      "* See how many turns it takes you to get to 20.\n",
      "* Turn ends when player rolls a 1 or chooses to hold.\n",
      "* If you roll a 1, you lose all points earned during the turn.\n",
      "* If you hold, you save all points earned during the turn.\n",
      "\n",
      "Turn 1\n",
      "\n",
      "Your score is 5\n"
     ]
    },
    {
     "name": "stdin",
     "output_type": "stream",
     "text": [
      "Continue or hold? :  continue\n"
     ]
    },
    {
     "name": "stdout",
     "output_type": "stream",
     "text": [
      "Your score is 7\n"
     ]
    },
    {
     "name": "stdin",
     "output_type": "stream",
     "text": [
      "Continue or hold? :  continue\n"
     ]
    },
    {
     "name": "stdout",
     "output_type": "stream",
     "text": [
      "Your score is 12\n"
     ]
    },
    {
     "name": "stdin",
     "output_type": "stream",
     "text": [
      "Continue or hold? :  continue\n"
     ]
    },
    {
     "name": "stdout",
     "output_type": "stream",
     "text": [
      "You got 1\n",
      "\n",
      "Turn 2\n",
      "\n",
      "You got 1\n",
      "\n",
      "Turn 3\n",
      "\n",
      "Your score is 6\n"
     ]
    },
    {
     "name": "stdin",
     "output_type": "stream",
     "text": [
      "Continue or hold? :  continue\n"
     ]
    },
    {
     "name": "stdout",
     "output_type": "stream",
     "text": [
      "Your score is 8\n"
     ]
    },
    {
     "name": "stdin",
     "output_type": "stream",
     "text": [
      "Continue or hold? :  continue\n"
     ]
    },
    {
     "name": "stdout",
     "output_type": "stream",
     "text": [
      "Your score is 13\n"
     ]
    },
    {
     "name": "stdin",
     "output_type": "stream",
     "text": [
      "Continue or hold? :  continue\n"
     ]
    },
    {
     "name": "stdout",
     "output_type": "stream",
     "text": [
      "Your score is 19\n"
     ]
    },
    {
     "name": "stdin",
     "output_type": "stream",
     "text": [
      "Continue or hold? :  continue\n"
     ]
    },
    {
     "name": "stdout",
     "output_type": "stream",
     "text": [
      "You got 1\n",
      "\n",
      "Turn 4\n",
      "\n",
      "You got 1\n",
      "\n",
      "Turn 5\n",
      "\n",
      "Your score is 5\n"
     ]
    },
    {
     "name": "stdin",
     "output_type": "stream",
     "text": [
      "Continue or hold? :  continue\n"
     ]
    },
    {
     "name": "stdout",
     "output_type": "stream",
     "text": [
      "Your score is 9\n"
     ]
    },
    {
     "name": "stdin",
     "output_type": "stream",
     "text": [
      "Continue or hold? :  continue\n"
     ]
    },
    {
     "name": "stdout",
     "output_type": "stream",
     "text": [
      "Your score is 12\n"
     ]
    },
    {
     "name": "stdin",
     "output_type": "stream",
     "text": [
      "Continue or hold? :  continue\n"
     ]
    },
    {
     "name": "stdout",
     "output_type": "stream",
     "text": [
      "Your score is 17\n"
     ]
    },
    {
     "name": "stdin",
     "output_type": "stream",
     "text": [
      "Continue or hold? :  continue\n"
     ]
    },
    {
     "name": "stdout",
     "output_type": "stream",
     "text": [
      "You got 1\n",
      "\n",
      "Turn 6\n",
      "\n",
      "Your score is 6\n"
     ]
    },
    {
     "name": "stdin",
     "output_type": "stream",
     "text": [
      "Continue or hold? :  continue\n"
     ]
    },
    {
     "name": "stdout",
     "output_type": "stream",
     "text": [
      "Your score is 12\n"
     ]
    },
    {
     "name": "stdin",
     "output_type": "stream",
     "text": [
      "Continue or hold? :  continue\n"
     ]
    },
    {
     "name": "stdout",
     "output_type": "stream",
     "text": [
      "You got 1\n",
      "\n",
      "Turn 7\n",
      "\n",
      "Your score is 4\n"
     ]
    },
    {
     "name": "stdin",
     "output_type": "stream",
     "text": [
      "Continue or hold? :  continue\n"
     ]
    },
    {
     "name": "stdout",
     "output_type": "stream",
     "text": [
      "Your score is 10\n"
     ]
    },
    {
     "name": "stdin",
     "output_type": "stream",
     "text": [
      "Continue or hold? :  continue\n"
     ]
    },
    {
     "name": "stdout",
     "output_type": "stream",
     "text": [
      "Your score is 13\n"
     ]
    },
    {
     "name": "stdin",
     "output_type": "stream",
     "text": [
      "Continue or hold? :  continue\n"
     ]
    },
    {
     "name": "stdout",
     "output_type": "stream",
     "text": [
      "Your score is 19\n"
     ]
    },
    {
     "name": "stdin",
     "output_type": "stream",
     "text": [
      "Continue or hold? :  continue\n"
     ]
    },
    {
     "name": "stdout",
     "output_type": "stream",
     "text": [
      "Your score is 22\n",
      "\n",
      "You take 7 turns\n"
     ]
    }
   ],
   "source": [
    "### CODE HERE ###\n",
    "import random \n",
    "import sys\n",
    "\n",
    "TurnIsGoing = True\n",
    "RoundIsGoing = True\n",
    "with open(\"pig_dice_rules.txt\",'w') as f:\n",
    "    f.write(\"\"\"Pig Dice Rules:\n",
    "* See how many turns it takes you to get to 20.\n",
    "* Turn ends when player rolls a 1 or chooses to hold.\n",
    "* If you roll a 1, you lose all points earned during the turn.\n",
    "* If you hold, you save all points earned during the turn.\\n\"\"\")\n",
    "    \n",
    "with open(\"pig_dice_rules.txt\",'r') as f:\n",
    "    rules = f.readlines()\n",
    "    for row in rules:\n",
    "        print(row,end='')\n",
    "\n",
    "\n",
    "def main():\n",
    "    score = 0\n",
    "    turn = 1\n",
    "\n",
    "    while RoundIsGoing:\n",
    "        with open(\"pig_dice_rules.txt\",'a') as f:\n",
    "            f.write(\"\\nTurn %d\\n\"%turn)\n",
    "        print(\"\\nTurn %d\\n\"%turn)\n",
    "        \n",
    "        tmpScore = 0\n",
    "        while TurnIsGoing:\n",
    "            dice = random.randint(1,6)\n",
    "            if (dice == 1):\n",
    "                with open(\"pig_dice_rules.txt\",'a') as f:\n",
    "                    f.write(\"You got 1\\n\")\n",
    "                print(\"You got 1\")\n",
    "                tmpScore = 0\n",
    "                break\n",
    "            else:\n",
    "                tmpScore += dice\n",
    "\n",
    "            with open(\"pig_dice_rules.txt\",'a') as f:\n",
    "                f.write(\"Your score is %d\\n\"%(score + tmpScore))\n",
    "            print(\"Your score is %d\"%(score + tmpScore))\n",
    "\n",
    "            if ((score + tmpScore) >= 20): break\n",
    "            sys.stdout.flush()\n",
    "            inp = input(\"Continue or hold? : \")\n",
    "\n",
    "            if (inp.lower() == 'continue'): continue\n",
    "            if (inp.lower() == 'hold'): break\n",
    "\n",
    "        score += tmpScore\n",
    "        if (score > 20):\n",
    "            break\n",
    "        \n",
    "        turn += 1\n",
    "\n",
    "    print(\"\\nYou take %d turns\"%turn)\n",
    "    with open(\"pig_dice_rules.txt\",'a') as f:\n",
    "        f.write(\"\\nYou take %d turns\"%turn)\n",
    "\n",
    "if __name__ == '__main__':\n",
    "    main()\n",
    "    \n",
    "\n",
    "\n"
   ]
  },
  {
   "cell_type": "markdown",
   "metadata": {},
   "source": [
    "## 7.2 Wizard Inventory\n",
    "Create a program that keeps track of the items that a wizard can carry.\n",
    "\n",
    "### Console:\n",
    "```powershell\n",
    "The Wizard Inventroy Program\n",
    "\n",
    "COMMAND MENU\n",
    "walk - Walk down the path \n",
    "show - Show all items \n",
    "drop - Drop an item\n",
    "exit - Exit program\n",
    "\n",
    "Command: walk\n",
    "While walking down a path, you see a scroll of uncursing. \n",
    "Do you want to grab it? (y/n): y\n",
    "You picked up a scroll of uncursing.\n",
    "\n",
    "Command: walk\n",
    "While walking down a path, you see an unknown potion. \n",
    "Do you want to grab it? (y/n): y\n",
    "You can't carry any more items. Drop something first.\n",
    "\n",
    "Command: show\n",
    "1.\ta wooden staff\n",
    "2.\ta scroll of invisibility\n",
    "3.\ta crossbow\n",
    "4.\ta scroll of uncursing\n",
    "\n",
    "Command: drop Number: 3\n",
    "You dropped a crossbow.\n",
    "\n",
    "Command: exit \n",
    "Bye!\n",
    "```\n",
    "\n",
    "### Specifications:\n",
    "- Use the attached text file named `wizard_all_items.txt` that contains a list of all the items that a wizard can carry. (in the corresponding directory)\n",
    "- When the user selects the walk command, the program should read the items from the file, randomly pick one, and give the user the option to grab it.\n",
    "- Your program should create another file that stores the items that the wizard is carrying (`wizard_inventory.txt`). Make sure to update this file every time the user grabs or drops an item.\n",
    "- The wizard can only carry **four** items at a time.\n",
    "- For the drop command, display an error message if the user enters an invalid number for the item.\n",
    "\n"
   ]
  },
  {
   "cell_type": "code",
   "execution_count": 8,
   "metadata": {},
   "outputs": [
    {
     "name": "stdout",
     "output_type": "stream",
     "text": [
      "The Wizard Inventroy Program\n",
      "\n",
      "COMMAND MENU\n",
      "walk - Walk down the path \n",
      "show - Show all items \n",
      "drop - Drop an item\n",
      "exit - Exit program\n"
     ]
    },
    {
     "name": "stdin",
     "output_type": "stream",
     "text": [
      "Command:  show\n"
     ]
    },
    {
     "name": "stdout",
     "output_type": "stream",
     "text": [
      "\n",
      "1\ta wooden staff\n",
      "2\ta scroll of invisibility\n",
      "3\ta crossbow\n",
      "\n"
     ]
    },
    {
     "name": "stdin",
     "output_type": "stream",
     "text": [
      "Command:  walk\n"
     ]
    },
    {
     "name": "stdout",
     "output_type": "stream",
     "text": [
      "While walking down a path, you see a crossbow\n",
      "\n"
     ]
    },
    {
     "name": "stdin",
     "output_type": "stream",
     "text": [
      "Do you want to grab it? (y/n):  y\n"
     ]
    },
    {
     "name": "stdout",
     "output_type": "stream",
     "text": [
      "You picked up a crossbow\n",
      "\n"
     ]
    },
    {
     "name": "stdin",
     "output_type": "stream",
     "text": [
      "Command:  walk\n"
     ]
    },
    {
     "name": "stdout",
     "output_type": "stream",
     "text": [
      "While walking down a path, you see a crossbow\n",
      "\n"
     ]
    },
    {
     "name": "stdin",
     "output_type": "stream",
     "text": [
      "Do you want to grab it? (y/n):  y\n"
     ]
    },
    {
     "name": "stdout",
     "output_type": "stream",
     "text": [
      "Too many items\n"
     ]
    },
    {
     "name": "stdin",
     "output_type": "stream",
     "text": [
      "Command:  drop\n",
      "Number:  1\n"
     ]
    },
    {
     "name": "stdout",
     "output_type": "stream",
     "text": [
      "\n",
      "You dropped a wooden staff\n",
      "\n"
     ]
    },
    {
     "name": "stdin",
     "output_type": "stream",
     "text": [
      "Command:  show\n"
     ]
    },
    {
     "name": "stdout",
     "output_type": "stream",
     "text": [
      "\n",
      "1\ta scroll of invisibility\n",
      "2\ta crossbow\n",
      "3\ta crossbow\n",
      "\n"
     ]
    },
    {
     "name": "stdin",
     "output_type": "stream",
     "text": [
      "Command:  exit\n"
     ]
    }
   ],
   "source": [
    "### CODE HERE ###\n",
    "import random\n",
    "import sys\n",
    "\n",
    "print(\"\"\"The Wizard Inventroy Program\n",
    "\n",
    "COMMAND MENU\n",
    "walk - Walk down the path \n",
    "show - Show all items \n",
    "drop - Drop an item\n",
    "exit - Exit program\"\"\")\n",
    "\n",
    "with open(\"wizard_inventory.txt\",'w') as f:\n",
    "    f.write(\"a wooden staff\\n\")\n",
    "    f.write(\"a scroll of invisibility\\n\")\n",
    "    f.write(\"a crossbow\\n\")\n",
    "\n",
    "def walk():\n",
    "    \"\"\"While walking down a path, you see a scroll of uncursing. \n",
    "Do you want to grab it? (y/n): y\n",
    "You picked up a scroll of uncursing.\"\"\"\n",
    "    with open(\"wizard_inventory.txt\",'r') as f:\n",
    "        inv = f.readlines()\n",
    "    item = random.choice(inv)\n",
    "    print(\"While walking down a path, you see %s\"%item)\n",
    "    inp = input(\"Do you want to grab it? (y/n): \")\n",
    "    if (inp.lower() == 'y'):\n",
    "        if len(inv) == 4:\n",
    "            print(\"Too many items\")\n",
    "            return \n",
    "        with open(\"wizard_inventory.txt\",'a') as f:\n",
    "            f.write(item)\n",
    "        print(\"You picked up %s\"%item)\n",
    "    if (inp.lower() == 'n'):\n",
    "        print(\"You did not pick up\")\n",
    "\n",
    "def show():\n",
    "    with open(\"wizard_inventory.txt\",'r') as f:\n",
    "        print()\n",
    "        items = f.readlines()\n",
    "        for idx, item in enumerate(items):\n",
    "            print(\"%d\\t%s\"%(idx+1,item),end='')  \n",
    "    print()\n",
    "\n",
    "def drop():\n",
    "    inp = 0\n",
    "    with open(\"wizard_inventory.txt\",'r') as f:\n",
    "        invLen = len(f.readlines())\n",
    "    \n",
    "    #Too many\n",
    "    while True:\n",
    "        inp = int(input(\"Number: \")) \n",
    "        if (inp < invLen + 1 and inp > 0):\n",
    "            break\n",
    "        else: \n",
    "            print(\"Invalid number, type again: \")\n",
    "            \n",
    "    #drop print\n",
    "    with open(\"wizard_inventory.txt\",'r') as f:\n",
    "        for _ in range(inp):\n",
    "            item = f.readline()\n",
    "        print(\"\\nYou dropped %s\"%item)\n",
    "\n",
    "    #copy\n",
    "    with open(\"wizard_inventory.txt\",'r') as f:\n",
    "        inv = f.readlines()\n",
    "        with open(\"tmp.txt\",'w') as t:\n",
    "            for idx in range(len(inv)):\n",
    "                if idx != inp-1:\n",
    "                    t.write(inv[idx])\n",
    "    \n",
    "    #copy\n",
    "    with open(\"tmp.txt\",'r') as t:\n",
    "        with open(\"wizard_inventory.txt\", 'w') as f:\n",
    "            inv = t.readlines()\n",
    "            for i in range(len(inv)):\n",
    "                f.write(inv[i])\n",
    "\n",
    "def main():\n",
    "    while True:\n",
    "        sys.stdout.flush()\n",
    "        inp = input(\"Command: \").lower()\n",
    "        if inp == 'walk':\n",
    "            walk()\n",
    "        if inp == 'show':\n",
    "            show()\n",
    "        if inp == 'drop':\n",
    "            drop()\n",
    "        if inp == 'exit':\n",
    "            break\n",
    "\n",
    "if __name__ == '__main__':\n",
    "    main()"
   ]
  },
  {
   "cell_type": "markdown",
   "metadata": {},
   "source": [
    "## 7.3 Monthly Sales\n",
    "Create a program that reads the sales for 12 months from a file and calculates the total yearly sales as well as the average monthly sales. In addition, this program should let the user edit the sales for any month.\n",
    "\n",
    "### Console:\n",
    "```powershell\n",
    "Monthly Sales program\n",
    "\n",
    "COMMAND MENU\n",
    "monthly - View monthly sales \n",
    "yearly\t- View yearly sumary \n",
    "edit\t- Edit sales for a month \n",
    "exit\t- Exit program\n",
    "\n",
    "Command: monthly \n",
    "Jan - 14317\n",
    "Feb - 3903\n",
    "Mar - 1073\n",
    "Apr - 3463\n",
    "May - 2429\n",
    "Jun - 4324\n",
    "Jul - 9762\n",
    "Aug - 15578\n",
    "Sep - 2437\n",
    "Oct - 6735\n",
    "Nov - 88\n",
    "Dec - 2497\n",
    "\n",
    "Command: yearly\n",
    "Yearly total:\t66606\n",
    "Monthly average:\t5550.5\n",
    "\n",
    "Command: edit\n",
    "Three-letter Month: Nov Sales Amount: 8854\n",
    "Sales amount for Nov was modified.\n",
    "\n",
    "Command: exit Bye!\n",
    "```\n",
    "\n",
    "### Specifications:\n",
    "- Use the attached text file named CSV file named `monthly_sales.csv` that contains the month and sales data shown above.\n",
    "- For the edit command, display an error message if the user doesn’t enter a valid three-letter abbreviation for the month.\n",
    "- When the user edits the sales amount for a month, the data should be saved to the CSV file immediately. That way, no data is lost, even if the program crashes later.\n",
    "- Round the results of the monthly average to a maximum of 2 decimal digits."
   ]
  },
  {
   "cell_type": "code",
   "execution_count": 10,
   "metadata": {},
   "outputs": [
    {
     "name": "stdout",
     "output_type": "stream",
     "text": [
      "Monthly Sales program\n",
      "\n",
      "COMMAND MENU\n",
      "monthly - View monthly sales \n",
      "yearly\t- View yearly sumary \n",
      "edit\t- Edit sales for a month \n",
      "exit\t- Exit program\n"
     ]
    },
    {
     "name": "stdin",
     "output_type": "stream",
     "text": [
      "\n",
      "Command:  monthly\n"
     ]
    },
    {
     "name": "stdout",
     "output_type": "stream",
     "text": [
      "Jan - 14317\n",
      "Feb - 3903\n",
      "Mar - 1073\n",
      "Apr - 3463\n",
      "May - 2429\n",
      "Jun - 4324\n",
      "Jul - 9762\n",
      "Aug - 15578\n",
      "Sep - 2437\n",
      "Oct - 6735\n",
      "Nov - 88\n",
      "Dec - 2497\n"
     ]
    },
    {
     "name": "stdin",
     "output_type": "stream",
     "text": [
      "\n",
      "Command:  yearly\n"
     ]
    },
    {
     "name": "stdout",
     "output_type": "stream",
     "text": [
      "Yearly total:\t66606\n",
      "Monthly average:\t5550.5\n"
     ]
    },
    {
     "name": "stdin",
     "output_type": "stream",
     "text": [
      "\n",
      "Command:  edit\n",
      "Three-letter Month:  Nov\n"
     ]
    },
    {
     "name": "stdout",
     "output_type": "stream",
     "text": [
      " Sales Amount: "
     ]
    },
    {
     "name": "stdin",
     "output_type": "stream",
     "text": [
      " 8864\n"
     ]
    },
    {
     "name": "stdout",
     "output_type": "stream",
     "text": [
      "\n"
     ]
    },
    {
     "name": "stdin",
     "output_type": "stream",
     "text": [
      "\n",
      "Command:  monthly\n"
     ]
    },
    {
     "name": "stdout",
     "output_type": "stream",
     "text": [
      "Jan - 14317\n",
      "Feb - 3903\n",
      "Mar - 1073\n",
      "Apr - 3463\n",
      "May - 2429\n",
      "Jun - 4324\n",
      "Jul - 9762\n",
      "Aug - 15578\n",
      "Sep - 2437\n",
      "Oct - 6735\n",
      "Nov - 8864\n",
      "Dec - 2497\n"
     ]
    },
    {
     "name": "stdin",
     "output_type": "stream",
     "text": [
      "\n",
      "Command:  exit\n"
     ]
    }
   ],
   "source": [
    "### CODE HERE ###\n",
    "import sys\n",
    "import csv\n",
    "\n",
    "print(\"\"\"Monthly Sales program\n",
    "\n",
    "COMMAND MENU\n",
    "monthly - View monthly sales \n",
    "yearly\t- View yearly sumary \n",
    "edit\t- Edit sales for a month \n",
    "exit\t- Exit program\"\"\")\n",
    "\n",
    "with open(\"monthly_sales.csv\",'w') as f:\n",
    "    f.write(\"\"\"Jan,14317\n",
    "Feb,3903\n",
    "Mar,1073\n",
    "Apr,3463\n",
    "May,2429\n",
    "Jun,4324\n",
    "Jul,9762\n",
    "Aug,15578\n",
    "Sep,2437\n",
    "Oct,6735\n",
    "Nov,88\n",
    "Dec,2497\\n\"\"\")\n",
    "\n",
    "def monthly():\n",
    "    with open(\"monthly_sales.csv\", 'r') as f:\n",
    "        reader = csv.reader(f)\n",
    "        for row in reader:\n",
    "            print(row[0],'-',row[1])\n",
    "        \n",
    "def yearly():\n",
    "    Sum = 0\n",
    "    with open(\"monthly_sales.csv\", 'r') as f:\n",
    "        reader = csv.reader(f)\n",
    "        for row in reader:\n",
    "            Sum += int(row[1])\n",
    "    print(\"Yearly total:\t%d\\nMonthly average:\\t%.1f\"%(Sum,Sum/12.0))\n",
    "\n",
    "def edit():\n",
    "    with open(\"monthly_sales.csv\", 'r') as f:\n",
    "        inp_month = input(\"Three-letter Month: \")\n",
    "\n",
    "        reader = csv.reader(f)      \n",
    "        for month in reader:\n",
    "            if inp_month == month[0]:\n",
    "                print(\" Sales Amount: \",end='')\n",
    "                inp_amount = int(input())\n",
    "                print()\n",
    "\n",
    "    with open(\"monthly_sales.csv\",'r') as f:\n",
    "        reader = csv.reader(f)\n",
    "        with open(\"tmp.csv\", 'w', newline='') as t:\n",
    "            writer = csv.writer(t)\n",
    "            for row in reader:\n",
    "                if row[0] == inp_month:\n",
    "                    writer.writerow([inp_month,inp_amount])\n",
    "                else:\n",
    "                    writer.writerow(row)\n",
    "\n",
    "    with open(\"tmp.csv\", 'r') as t:\n",
    "        reader = csv.reader(t)\n",
    "        with open(\"monthly_sales.csv\", 'w',newline='') as f:\n",
    "            writer = csv.writer(f)\n",
    "            for row in reader:\n",
    "                writer.writerow([row[0],row[1]])\n",
    "\n",
    "def main():\n",
    "    while True:\n",
    "        sys.stdout.flush()\n",
    "        inp = input(\"\\nCommand: \")\n",
    "        if inp == 'monthly':\n",
    "            monthly()\n",
    "        if inp == 'yearly':\n",
    "            yearly()\n",
    "        if inp == 'edit':\n",
    "            edit()\n",
    "        if inp == 'exit':\n",
    "            break\n",
    "        \n",
    "if __name__ == '__main__':\n",
    "    main()"
   ]
  }
 ],
 "metadata": {
  "kernelspec": {
   "display_name": "Python 3 (ipykernel)",
   "language": "python",
   "name": "python3"
  },
  "language_info": {
   "codemirror_mode": {
    "name": "ipython",
    "version": 3
   },
   "file_extension": ".py",
   "mimetype": "text/x-python",
   "name": "python",
   "nbconvert_exporter": "python",
   "pygments_lexer": "ipython3",
   "version": "3.8.2"
  }
 },
 "nbformat": 4,
 "nbformat_minor": 4
}
