{
 "cells": [
  {
   "cell_type": "markdown",
   "metadata": {},
   "source": [
    "# Exceptions\n",
    "\n",
    "To submit this assignment in D2l, post the link to your notebook file on your GitHub account."
   ]
  },
  {
   "cell_type": "markdown",
   "metadata": {},
   "source": [
    "## 8.1 Tip Calculator\n",
    "Add exception handling to a Tip Calculator program.\n",
    "\n",
    "### Console:\n",
    "```powershell\n",
    "Tip Calculator\n",
    "\n",
    "INPUT\n",
    "Cost of meal: ten\n",
    "Must be valid decimal number. Please try again. \n",
    "Cost of meal: -10\n",
    "Must be greater than 0. Please try again. \n",
    "Cost of meal: 52.31\n",
    "Tip percent:\t17.5\n",
    "Must be valid integer. Please try again. \n",
    "Tip percent:\t20\n",
    "\n",
    "OUTPUT\n",
    "Cost of meal:   52.31 \n",
    "Tip percent:    20%\n",
    "Tip amount:     10.46\n",
    "Total amount:   62.77\n",
    "```\n",
    "\n",
    "### Specifications:\n",
    "- The program should accept **decimal** entries like 52.31 and 15.5 for the cost of the meal.\n",
    "- The program should accept **integer** entries like 15, 20, 25 for the tip percent.\n",
    "- The program should validate both user entries. That way, the user can’t crash the program by entering invalid data.\n",
    "- The program should only accept numbers that are **greater than 0**.\n",
    "- The program should round results to a maximum of two decimal places.\n"
   ]
  },
  {
   "cell_type": "code",
   "execution_count": 2,
   "metadata": {},
   "outputs": [
    {
     "name": "stdout",
     "output_type": "stream",
     "text": [
      "Tip Calculator\n",
      "\n",
      "INPUT\n"
     ]
    },
    {
     "name": "stdin",
     "output_type": "stream",
     "text": [
      "Cost of meal:  ten\n"
     ]
    },
    {
     "name": "stdout",
     "output_type": "stream",
     "text": [
      "Must be valid decimal number. Please try again.\n"
     ]
    },
    {
     "name": "stdin",
     "output_type": "stream",
     "text": [
      "Cost of meal:  -10\n"
     ]
    },
    {
     "name": "stdout",
     "output_type": "stream",
     "text": [
      "Must be greater than 0. Please try again.\n"
     ]
    },
    {
     "name": "stdin",
     "output_type": "stream",
     "text": [
      "Cost of meal:  52.31\n",
      "Tip percent:\t 17.5\n"
     ]
    },
    {
     "name": "stdout",
     "output_type": "stream",
     "text": [
      "Must be valid integer. Please try again.\n"
     ]
    },
    {
     "name": "stdin",
     "output_type": "stream",
     "text": [
      "Tip percent:\t 20\n"
     ]
    },
    {
     "name": "stdout",
     "output_type": "stream",
     "text": [
      "\n",
      "OUTPUT\n",
      "Cost of meal:\t52.31 \n",
      "Tip percent:\t20%\n",
      "Tip amount:\t10.46\n",
      "Total amount:\t62.77\n"
     ]
    }
   ],
   "source": [
    "### CODE HERE ###\n",
    "class negativeNumberError(Exception):\n",
    "    pass\n",
    "\n",
    "def valCostOfMeal():\n",
    "    while True:\n",
    "        try:\n",
    "            inp = float(input(\"Cost of meal: \"))\n",
    "            if inp <= 0: raise negativeNumberError\n",
    "        except ValueError:\n",
    "            print(\"Must be valid decimal number. Please try again.\")\n",
    "        except negativeNumberError:\n",
    "            print(\"Must be greater than 0. Please try again.\")\n",
    "        except:\n",
    "            continue\n",
    "        else:\n",
    "            break\n",
    "    return inp\n",
    "\n",
    "def valTipPercent():\n",
    "    while True:\n",
    "        try:\n",
    "            inp = int(input(\"Tip percent:\\t\"))\n",
    "            if inp <= 0: raise negativeNumberError\n",
    "        except ValueError:\n",
    "            print(\"Must be valid integer. Please try again.\")\n",
    "        except negativeNumberError:\n",
    "            print(\"Must be greater than 0. Please try again.\")\n",
    "        except:\n",
    "            continue\n",
    "        else:\n",
    "            break\n",
    "    return inp\n",
    "\n",
    "print(\"Tip Calculator\\n\")\n",
    "print(\"INPUT\")\n",
    "CostOFMeal = valCostOfMeal()\n",
    "TipPercent = valTipPercent()\n",
    "print(\"\\nOUTPUT\")\n",
    "print(\"\"\"Cost of meal:\\t%.2f \n",
    "Tip percent:\\t%d%%\n",
    "Tip amount:\\t%.2f\n",
    "Total amount:\\t%.2f\"\"\"%(CostOFMeal,TipPercent,CostOFMeal*TipPercent/100,CostOFMeal*(100+TipPercent)/100))"
   ]
  },
  {
   "cell_type": "markdown",
   "metadata": {},
   "source": [
    "## 8.2 Wizard Inventory\n",
    "\n",
    "Add exception handling to a program that keeps track of the inventory of items that a wizard can carry. If you still have Wizard Inventory from Handson_5, you can add the exception handling to that program. Otherwise, you can start this program from scratch.\n",
    "\n",
    "### Console if the program can't find the **inventory** file:\n",
    "```powershell\n",
    "The Wizard Inventory program\n",
    "\n",
    "COMMAND MENU\n",
    "walk - Walk down the path \n",
    "show - Show all items \n",
    "drop - Drop an item\n",
    "exit - Exit program\n",
    "\n",
    "Could not find inventory file!\n",
    "Wizard is starting with no inventory.\n",
    "\n",
    "Command: walk\n",
    "While walking down a path, you see a crossbow.\n",
    "Do you want to grab it? (y/n): y\n",
    "You picked up a crossbow.\n",
    "\n",
    "Command: show\n",
    "1. a crossbow\n",
    "\n",
    "Command: drop Number: x\n",
    "Invalid item number.\n",
    "```\n",
    "\n",
    "### The error message if the program can’t find the **items** file:\n",
    "```powershell\n",
    "Could not find items file.\t\n",
    "Exiting program. Bye!\t\n",
    "```\n",
    "\n",
    "### Specifications:\n",
    "- This program should read the text file named `wizard_all_items.txt` that contains all the items a wizard can carry.\n",
    "- When the user selects the walk command, the program should randomly pick one of the items that were read from the text file and give the user the option to grab it.\n",
    "- The current items that the wizard is carrying should be saved in an inventory file. Make sure to update this file every time the user grabs or drops an item.\n",
    "- The wizard can only carry four items at a time. For the drop command, display an error message if the user enters an invalid integer or an integer that doesn’t correspond with an item.\n",
    "- Handle all exceptions that might occur so that the user can’t cause the program to crash. If the all items file is missing, display an appropriate error message and exit the program.\n",
    "- If the inventory file is missing, display an appropriate error message and continue with an empty inventory for the user. That way, the program will write a new inventory file when the user adds items to the inventory."
   ]
  },
  {
   "cell_type": "markdown",
   "metadata": {},
   "source": [
    "### Console if the program can't find the **inventory** file:"
   ]
  },
  {
   "cell_type": "code",
   "execution_count": 15,
   "metadata": {},
   "outputs": [
    {
     "name": "stdout",
     "output_type": "stream",
     "text": [
      "The Wizard Inventroy Program\n",
      "\n",
      "COMMAND MENU\n",
      "walk - Walk down the path \n",
      "show - Show all items \n",
      "drop - Drop an item\n",
      "exit - Exit program\n",
      "\n",
      "Could not find inventory file!\n",
      "Wizard is starting with no inventory.\n"
     ]
    },
    {
     "name": "stdin",
     "output_type": "stream",
     "text": [
      "\n",
      "Command:  walk\n"
     ]
    },
    {
     "name": "stdout",
     "output_type": "stream",
     "text": [
      "While walking down a path, you see a scroll of invisibility\n"
     ]
    },
    {
     "name": "stdin",
     "output_type": "stream",
     "text": [
      "Do you want to grab it? (y/n):  y\n"
     ]
    },
    {
     "name": "stdout",
     "output_type": "stream",
     "text": [
      "You picked up a scroll of invisibility\n"
     ]
    },
    {
     "name": "stdin",
     "output_type": "stream",
     "text": [
      "\n",
      "Command:  show\n"
     ]
    },
    {
     "name": "stdout",
     "output_type": "stream",
     "text": [
      "1. a scroll of invisibility"
     ]
    },
    {
     "name": "stdin",
     "output_type": "stream",
     "text": [
      "\n",
      "Command:  drop\n",
      "Number:  x\n"
     ]
    },
    {
     "name": "stdout",
     "output_type": "stream",
     "text": [
      "Invalid item number.\n"
     ]
    }
   ],
   "source": [
    "### CODE HERE ###\n",
    "import random\n",
    "import sys\n",
    "from IPython.display import clear_output\n",
    "\n",
    "class dropError(Exception):\n",
    "    pass\n",
    "\n",
    "print(\"\"\"The Wizard Inventroy Program\n",
    "\n",
    "COMMAND MENU\n",
    "walk - Walk down the path \n",
    "show - Show all items \n",
    "drop - Drop an item\n",
    "exit - Exit program\"\"\")\n",
    "\n",
    "try:\n",
    "    with open(\"wizard_inventory.txt\",'r') as f:\n",
    "        inv = f.readlines()\n",
    "except:\n",
    "    print(\"\\nCould not find inventory file!\\nWizard is starting with no inventory.\")\n",
    "    inv = list()\n",
    "\n",
    "\n",
    "\n",
    "def walk(inv):\n",
    "    try :\n",
    "        with open(\"wizard_all_items.txt\",'r') as f:\n",
    "            allItems = list(map(str.strip,f.readlines()))\n",
    "    except:\n",
    "        print(\"Could not find items file.\\nExiting program. Bye!\")\n",
    "        sys.exit()\n",
    "    item = random.choice(allItems)\n",
    "    print(\"While walking down a path, you see %s\"%item)\n",
    "    inp = input(\"Do you want to grab it? (y/n): \")\n",
    "    if (inp.lower() == 'y'):\n",
    "        if len(inv) == 4:\n",
    "            print(\"Too many items\")\n",
    "            return \n",
    "        with open(\"wizard_inventory.txt\",'a') as f:\n",
    "            f.write(item)\n",
    "        print(\"You picked up %s\"%item)\n",
    "    if (inp.lower() == 'n'):\n",
    "        print(\"You did not pick up\")\n",
    "\n",
    "def show():\n",
    "    with open(\"wizard_inventory.txt\",'r') as f:\n",
    "        items = f.readlines()\n",
    "        for idx, item in enumerate(items):\n",
    "            print(\"%d. %s\"%(idx+1,item),end='')  \n",
    "\n",
    "def drop():\n",
    "    inp = 0\n",
    "    with open(\"wizard_inventory.txt\",'r') as f:\n",
    "        invLen = len(f.readlines())\n",
    "    \n",
    "    #Too many\n",
    "    while True:\n",
    "        try:\n",
    "            inp = int(input(\"Number: \")) \n",
    "            if (inp < invLen + 1 and inp > 0):\n",
    "                break\n",
    "            else: \n",
    "                print(\"Invalid number.\")\n",
    "                return\n",
    "        except:\n",
    "            raise dropError\n",
    "    #drop print\n",
    "    with open(\"wizard_inventory.txt\",'r') as f:\n",
    "        for _ in range(inp):\n",
    "            item = f.readline()\n",
    "        print(\"\\nYou dropped %s\"%item)\n",
    "\n",
    "    #copy\n",
    "    with open(\"wizard_inventory.txt\",'r') as f:\n",
    "        inv = f.readlines()\n",
    "        with open(\"tmp.txt\",'w') as t:\n",
    "            for idx in range(len(inv)):\n",
    "                if idx != inp-1:\n",
    "                    t.write(inv[idx])\n",
    "    \n",
    "    #copy\n",
    "    with open(\"tmp.txt\",'r') as t:\n",
    "        with open(\"wizard_inventory.txt\", 'w') as f:\n",
    "            inv = t.readlines()\n",
    "            for i in range(len(inv)):\n",
    "                f.write(inv[i])\n",
    "\n",
    "def main():\n",
    "    while True:\n",
    "        try :\n",
    "            with open(\"wizard_all_items.txt\",'r') as f:\n",
    "                allItems = list(map(str.strip,f.readlines()))\n",
    "        except:\n",
    "            clear_output(wait=True)\n",
    "            print(\"\\nCould not find items file.\\nExiting program. Bye!\\n\")\n",
    "            break\n",
    "        try: \n",
    "            sys.stdout.flush()\n",
    "            inp = input(\"\\nCommand: \").lower()\n",
    "            if inp == 'walk':\n",
    "                walk(inv)\n",
    "            if inp == 'show':\n",
    "                show()\n",
    "            if inp == 'drop':\n",
    "                drop()\n",
    "            if inp == 'exit':\n",
    "                break\n",
    "        except SystemExit:\n",
    "            break\n",
    "        except dropError:\n",
    "            print(\"Invalid item number.\")\n",
    "            break\n",
    "        except:\n",
    "            continue\n",
    "if __name__ == '__main__':\n",
    "    main()"
   ]
  },
  {
   "cell_type": "markdown",
   "metadata": {},
   "source": [
    "### The error message if the program can’t find the **items** file:"
   ]
  },
  {
   "cell_type": "code",
   "execution_count": 30,
   "metadata": {},
   "outputs": [
    {
     "name": "stdout",
     "output_type": "stream",
     "text": [
      "\n",
      "Could not find items file.\n",
      "Exiting program. Bye!\n",
      "\n"
     ]
    }
   ],
   "source": [
    "### CODE HERE ###\n",
    "import random\n",
    "import sys\n",
    "from IPython.display import clear_output\n",
    "\n",
    "class dropError(Exception):\n",
    "    pass\n",
    "\n",
    "print(\"\"\"The Wizard Inventroy Program\n",
    "\n",
    "COMMAND MENU\n",
    "walk - Walk down the path \n",
    "show - Show all items \n",
    "drop - Drop an item\n",
    "exit - Exit program\"\"\")\n",
    "\n",
    "try:\n",
    "    with open(\"wizard_inventory.txt\",'r') as f:\n",
    "        inv = f.readlines()\n",
    "except:\n",
    "    print(\"\\nCould not find inventory file!\\nWizard is starting with no inventory.\")\n",
    "    inv = list()\n",
    "\n",
    "\n",
    "\n",
    "def walk(inv):\n",
    "    try :\n",
    "        with open(\"wizard_all_items.txt\",'r') as f:\n",
    "            allItems = list(map(str.strip,f.readlines()))\n",
    "    except:\n",
    "        print(\"Could not find items file.\\nExiting program. Bye!\")\n",
    "        sys.exit()\n",
    "    item = random.choice(allItems)\n",
    "    print(\"While walking down a path, you see %s\"%item)\n",
    "    inp = input(\"Do you want to grab it? (y/n): \")\n",
    "    if (inp.lower() == 'y'):\n",
    "        if len(inv) == 4:\n",
    "            print(\"Too many items\")\n",
    "            return \n",
    "        with open(\"wizard_inventory.txt\",'a') as f:\n",
    "            f.write(item)\n",
    "        print(\"You picked up %s\"%item)\n",
    "    if (inp.lower() == 'n'):\n",
    "        print(\"You did not pick up\")\n",
    "\n",
    "def show():\n",
    "    with open(\"wizard_inventory.txt\",'r') as f:\n",
    "        items = f.readlines()\n",
    "        for idx, item in enumerate(items):\n",
    "            print(\"%d. %s\"%(idx+1,item),end='')  \n",
    "\n",
    "def drop():\n",
    "    inp = 0\n",
    "    with open(\"wizard_inventory.txt\",'r') as f:\n",
    "        invLen = len(f.readlines())\n",
    "    \n",
    "    #Too many\n",
    "    while True:\n",
    "        try:\n",
    "            inp = int(input(\"Number: \")) \n",
    "            if (inp < invLen + 1 and inp > 0):\n",
    "                break\n",
    "            else: \n",
    "                print(\"Invalid number.\")\n",
    "                return\n",
    "        except:\n",
    "            raise dropError\n",
    "    #drop print\n",
    "    with open(\"wizard_inventory.txt\",'r') as f:\n",
    "        for _ in range(inp):\n",
    "            item = f.readline()\n",
    "        print(\"\\nYou dropped %s\"%item)\n",
    "\n",
    "    #copy\n",
    "    with open(\"wizard_inventory.txt\",'r') as f:\n",
    "        inv = f.readlines()\n",
    "        with open(\"tmp.txt\",'w') as t:\n",
    "            for idx in range(len(inv)):\n",
    "                if idx != inp-1:\n",
    "                    t.write(inv[idx])\n",
    "    \n",
    "    #copy\n",
    "    with open(\"tmp.txt\",'r') as t:\n",
    "        with open(\"wizard_inventory.txt\", 'w') as f:\n",
    "            inv = t.readlines()\n",
    "            for i in range(len(inv)):\n",
    "                f.write(inv[i])\n",
    "\n",
    "def main():\n",
    "    while True:\n",
    "        try :\n",
    "            with open(\"wizard_all_items.txt\",'r') as f:\n",
    "                allItems = list(map(str.strip,f.readlines()))\n",
    "        except:\n",
    "            clear_output(wait=True)\n",
    "            print(\"\\nCould not find items file.\\nExiting program. Bye!\\n\")\n",
    "            break\n",
    "        try: \n",
    "            sys.stdout.flush()\n",
    "            inp = input(\"\\nCommand: \").lower()\n",
    "            if inp == 'walk':\n",
    "                walk(inv)\n",
    "            if inp == 'show':\n",
    "                show()\n",
    "            if inp == 'drop':\n",
    "                drop()\n",
    "            if inp == 'exit':\n",
    "                break\n",
    "        except SystemExit:\n",
    "            break\n",
    "        except dropError:\n",
    "            print(\"Invalid item number.\")\n",
    "            break\n",
    "        except:\n",
    "            continue\n",
    "if __name__ == '__main__':\n",
    "    main()"
   ]
  }
 ],
 "metadata": {
  "kernelspec": {
   "display_name": "Python 3 (ipykernel)",
   "language": "python",
   "name": "python3"
  },
  "language_info": {
   "codemirror_mode": {
    "name": "ipython",
    "version": 3
   },
   "file_extension": ".py",
   "mimetype": "text/x-python",
   "name": "python",
   "nbconvert_exporter": "python",
   "pygments_lexer": "ipython3",
   "version": "3.8.2"
  }
 },
 "nbformat": 4,
 "nbformat_minor": 4
}
