{
 "cells": [
  {
   "cell_type": "markdown",
   "metadata": {},
   "source": [
    "# Dictionaries\n",
    "\n",
    "To submit this assignment in D2l, post the link to your notebook file on your GitHub account."
   ]
  },
  {
   "cell_type": "markdown",
   "metadata": {},
   "source": [
    "## 12.1 Champion Counter\n",
    "Create a program that reads a text file that contains a list of FIFA World Cup champions and determines the country that has won the most championships.\n",
    "\n",
    "### Console:\n",
    "```powershell\n",
    "Country\t        Wins\tYears\t\n",
    "=======\t        ====\t=====\t\n",
    "Argentina       2       1978, 1986\n",
    "Brazil\t        5       1958, 1962, 1970, 1994, 2002\n",
    "England\t        1       1966\t\t\n",
    "France\t        1       1998\t\t\n",
    "Germany\t        4       1954, 1974, 1990, 2014\n",
    "Italy\t        4       1934, 1938, 1982, 2006\n",
    "Spain\t        1       2010\n",
    "Uruguay\t        2       1930, 1950\n",
    "```\n",
    "\n",
    "### Specifications:\n",
    "- Use the attached text file named `world_cup_champions.txt` that contains data like this: \n",
    "```powershell\n",
    "Year,Country,Coach,Captain \n",
    "1930,Uruguay,Alberto Suppici,José Nasazzi \n",
    "1934,Italy,Vittorio Pozzo,Gianpiero Combi \n",
    "1938,Italy,Vittorio Pozzo,Giuseppe Meazza\n",
    "...\n",
    "```\n",
    "- When the program starts, it should read the text file and use a dictionary to store the required data using the name of each country that has won the World Cup as the key.\n",
    "- The program should compile the data shown above and display the countries alphabetically.\n",
    "\n"
   ]
  },
  {
   "cell_type": "code",
   "execution_count": 18,
   "metadata": {},
   "outputs": [
    {
     "name": "stdout",
     "output_type": "stream",
     "text": [
      "Country\t\tWins\tYears\n",
      "=======\t\t====\t=====\n",
      "Argentina       2       [1978, 1986]\n",
      "Brazil          5       [1958, 1962, 1970, 1994, 2002]\n",
      "England         1       [1966]\n",
      "France          1       [1998]\n",
      "Germany         4       [1954, 1974, 1990, 2014]\n",
      "Italy           4       [1934, 1938, 1982, 2006]\n",
      "Spain           1       [2010]\n",
      "Uruguay         2       [1930, 1950]\n"
     ]
    }
   ],
   "source": [
    "### CODE HERE ###\n",
    "import pandas as pd\n",
    "info = pd.read_csv(\"world_cup_champions.txt\",delimiter=\",\")\n",
    "res = dict()\n",
    "for idx,country in enumerate(info['Country']):\n",
    "    if country in res:\n",
    "        res[country].append(info['Year'].iloc[idx])\n",
    "    else:\n",
    "        tmp = [info['Year'].iloc[idx]]\n",
    "        res[country] = tmp\n",
    "countries = list(sorted(res.keys()))        \n",
    "print(\"Country\\t\\tWins\\tYears\")\n",
    "print(\"=======\\t\\t====\\t=====\")\n",
    "for country in countries:\n",
    "    print(\"%-16s%-8d%s\"%(country, len(res[country]), res[country]))\n"
   ]
  },
  {
   "cell_type": "markdown",
   "metadata": {},
   "source": [
    "## 12.2 Monthly Sales\n",
    "Create a program that allows you to view and edit the sales amounts for each month of the current year.\n",
    "\n",
    "### Console:\n",
    "```powershell\n",
    "Monthly Sales program\n",
    "\n",
    "COMMAND MENU\n",
    "view\t- View sales for specified month \n",
    "edit\t- Edit sales for specified month \n",
    "totals - View sales summary for year \n",
    "exit\t- Exit program\n",
    "\n",
    "Command: view\n",
    "Three-letter Month: jan\n",
    "Sales amount for Jan is 14,317.00.\n",
    "\n",
    "Command: edit\n",
    "Three-letter Month: jan \n",
    "Sales Amount: 15293\n",
    "Sales amount for Jan is 15,293.00.\n",
    "\n",
    "Command: totals\n",
    "Yearly total: 67,855.00\n",
    "Monthly average: 5,654.58\n",
    "\n",
    "Command: view\n",
    "Three-letter Month: july \n",
    "Invalid three-letter month.\n",
    "\n",
    "Command: exit Bye!\n",
    "```\n",
    "\n",
    "### Specifications:\n",
    "- Use the attached text file named `monthly_sales.txt` that consists of rows that contain three-letter abbreviations for the month and the monthly sales.\n",
    "- The program should read the file and store the sales data for each month in a dictionary with the month abbreviation as the key for each item.\n",
    "- Whenever the sales data is edited, the program should write the changed data to the text file.\n",
    "\n",
    "\n"
   ]
  },
  {
   "cell_type": "code",
   "execution_count": 56,
   "metadata": {},
   "outputs": [
    {
     "name": "stdout",
     "output_type": "stream",
     "text": [
      "Monthly Sales program\n",
      "\n",
      "COMMAND MENU\n",
      "view\t- View sales for specified month \n",
      "edit\t- Edit sales for specified month \n",
      "totals - View sales summary for year \n",
      "exit\t- Exit program\n"
     ]
    },
    {
     "name": "stdin",
     "output_type": "stream",
     "text": [
      "\n",
      "Command:  view\n",
      "Three-letter Month:  jan\n"
     ]
    },
    {
     "name": "stdout",
     "output_type": "stream",
     "text": [
      "Sales amount for Jan is 14317.00.\n"
     ]
    },
    {
     "name": "stdin",
     "output_type": "stream",
     "text": [
      "\n",
      "Command:  edit\n",
      "Three-letter Month:  jan\n",
      "Sales Amount:  15293\n"
     ]
    },
    {
     "name": "stdout",
     "output_type": "stream",
     "text": [
      "Sales amount for Jan is 15293.00\n"
     ]
    },
    {
     "name": "stdin",
     "output_type": "stream",
     "text": [
      "\n",
      "Command:  totals\n"
     ]
    },
    {
     "name": "stdout",
     "output_type": "stream",
     "text": [
      "Yearly total: 67855.00\n",
      "Monthly average: 5654.58\n"
     ]
    },
    {
     "name": "stdin",
     "output_type": "stream",
     "text": [
      "\n",
      "Command:  view\n",
      "Three-letter Month:  july\n"
     ]
    },
    {
     "name": "stdout",
     "output_type": "stream",
     "text": [
      "Invalid three-letter month.\n"
     ]
    },
    {
     "name": "stdin",
     "output_type": "stream",
     "text": [
      "\n",
      "Command:  exit\n"
     ]
    }
   ],
   "source": [
    "### CODE HERE ###\n",
    "import pandas as pd\n",
    "\n",
    "print(\"Monthly Sales program\")\n",
    "print()\n",
    "print(\"COMMAND MENU\")\n",
    "print(\"\"\"view\t- View sales for specified month \n",
    "edit\t- Edit sales for specified month \n",
    "totals - View sales summary for year \n",
    "exit\t- Exit program\"\"\")\n",
    "def edit(info):\n",
    "    inp_month = input(\"Three-letter Month: \")\n",
    "    inp_sales = float(input(\"Sales Amount: \"))\n",
    "    for idx in range(info.shape[0]):\n",
    "        if info.iloc[idx,0] == inp_month.title():\n",
    "            info.iloc[idx,1] = inp_sales\n",
    "            print(\"Sales amount for %s is %.2f\"%(info.iloc[idx,0],info.iloc[idx,1]))\n",
    "def view(info):\n",
    "    inp_month = input(\"Three-letter Month: \")\n",
    "    if inp_month.title() in info.iloc[:,0].values:\n",
    "        for idx in range(info.shape[0]):\n",
    "            if info.iloc[idx,0] == inp_month.title():\n",
    "                print(\"Sales amount for %s is %.2f.\"%(info.iloc[idx,0],info.iloc[idx,1]))\n",
    "    else: \n",
    "        print(\"Invalid three-letter month.\")\n",
    "def totals(info):\n",
    "    Sum = 0\n",
    "    for idx in range(info.shape[0]):\n",
    "        Sum += float(info.iloc[idx,1]) \n",
    "    print(\"Yearly total: %.2f\"%Sum)\n",
    "    print(\"Monthly average: %.2f\"%(Sum/12.0))\n",
    "\n",
    "info = pd.read_csv(\"monthly_sales.txt\",delimiter='\\t',header=None)\n",
    "while True:\n",
    "    inp = input(\"\\nCommand: \")\n",
    "    if (inp == 'view'):\n",
    "        view(info)\n",
    "    if (inp == 'edit'):\n",
    "        edit(info)\n",
    "    if (inp == 'totals'):\n",
    "        totals(info)\n",
    "    if (inp == 'exit'):\n",
    "        break"
   ]
  },
  {
   "cell_type": "code",
   "execution_count": null,
   "metadata": {},
   "outputs": [],
   "source": []
  }
 ],
 "metadata": {
  "kernelspec": {
   "display_name": "Python 3 (ipykernel)",
   "language": "python",
   "name": "python3"
  },
  "language_info": {
   "codemirror_mode": {
    "name": "ipython",
    "version": 3
   },
   "file_extension": ".py",
   "mimetype": "text/x-python",
   "name": "python",
   "nbconvert_exporter": "python",
   "pygments_lexer": "ipython3",
   "version": "3.8.2"
  }
 },
 "nbformat": 4,
 "nbformat_minor": 4
}
